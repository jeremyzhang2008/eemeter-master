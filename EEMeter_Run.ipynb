{
 "cells": [
  {
   "cell_type": "code",
   "execution_count": 1,
   "metadata": {},
   "outputs": [
    {
     "name": "stdout",
     "output_type": "stream",
     "text": [
      "Collecting eemeter\n",
      "  Downloading eemeter-1.3.3-py2.py3-none-any.whl (2.6MB)\n",
      "Requirement already satisfied: statsmodels>=0.8.0rc1 in c:\\users\\zhizha\\appdata\\local\\continuum\\miniconda3\\envs\\mypython3.5\\lib\\site-packages (from eemeter)\n",
      "Requirement already satisfied: SQLAlchemy in c:\\users\\zhizha\\appdata\\local\\continuum\\miniconda3\\envs\\mypython3.5\\lib\\site-packages (from eemeter)\n",
      "Requirement already satisfied: scipy in c:\\users\\zhizha\\appdata\\local\\continuum\\miniconda3\\envs\\mypython3.5\\lib\\site-packages (from eemeter)\n",
      "Requirement already satisfied: requests in c:\\users\\zhizha\\appdata\\local\\continuum\\miniconda3\\envs\\mypython3.5\\lib\\site-packages (from eemeter)\n",
      "Requirement already satisfied: pytz in c:\\users\\zhizha\\appdata\\local\\continuum\\miniconda3\\envs\\mypython3.5\\lib\\site-packages (from eemeter)\n",
      "Collecting lxml (from eemeter)\n",
      "  Downloading lxml-4.1.1-cp35-cp35m-win_amd64.whl (3.5MB)\n",
      "Requirement already satisfied: numpy>=1.10.2 in c:\\users\\zhizha\\appdata\\local\\continuum\\miniconda3\\envs\\mypython3.5\\lib\\site-packages (from eemeter)\n",
      "Requirement already satisfied: scikit-learn in c:\\users\\zhizha\\appdata\\local\\continuum\\miniconda3\\envs\\mypython3.5\\lib\\site-packages (from eemeter)\n",
      "Collecting click (from eemeter)\n",
      "  Downloading click-6.7-py2.py3-none-any.whl (71kB)\n",
      "Collecting holidays (from eemeter)\n",
      "  Downloading holidays-0.9.3.tar.gz (56kB)\n",
      "Requirement already satisfied: patsy in c:\\users\\zhizha\\appdata\\local\\continuum\\miniconda3\\envs\\mypython3.5\\lib\\site-packages (from eemeter)\n",
      "Requirement already satisfied: pandas>=0.19.2 in c:\\users\\zhizha\\appdata\\local\\continuum\\miniconda3\\envs\\mypython3.5\\lib\\site-packages (from eemeter)\n",
      "Collecting dateparser (from eemeter)\n",
      "  Downloading dateparser-0.7.0-py2.py3-none-any.whl (357kB)\n",
      "Collecting xlrd (from eemeter)\n",
      "  Downloading xlrd-1.1.0-py2.py3-none-any.whl (108kB)\n",
      "Requirement already satisfied: urllib3<1.23,>=1.21.1 in c:\\users\\zhizha\\appdata\\local\\continuum\\miniconda3\\envs\\mypython3.5\\lib\\site-packages (from requests->eemeter)\n",
      "Requirement already satisfied: chardet<3.1.0,>=3.0.2 in c:\\users\\zhizha\\appdata\\local\\continuum\\miniconda3\\envs\\mypython3.5\\lib\\site-packages (from requests->eemeter)\n",
      "Requirement already satisfied: idna<2.7,>=2.5 in c:\\users\\zhizha\\appdata\\local\\continuum\\miniconda3\\envs\\mypython3.5\\lib\\site-packages (from requests->eemeter)\n",
      "Requirement already satisfied: certifi>=2017.4.17 in c:\\users\\zhizha\\appdata\\local\\continuum\\miniconda3\\envs\\mypython3.5\\lib\\site-packages (from requests->eemeter)\n",
      "Requirement already satisfied: python-dateutil in c:\\users\\zhizha\\appdata\\local\\continuum\\miniconda3\\envs\\mypython3.5\\lib\\site-packages (from holidays->eemeter)\n",
      "Requirement already satisfied: six in c:\\users\\zhizha\\appdata\\local\\continuum\\miniconda3\\envs\\mypython3.5\\lib\\site-packages (from holidays->eemeter)\n",
      "Requirement already satisfied: tzlocal in c:\\users\\zhizha\\appdata\\local\\continuum\\miniconda3\\envs\\mypython3.5\\lib\\site-packages (from dateparser->eemeter)\n",
      "Collecting regex (from dateparser->eemeter)\n",
      "  Downloading regex-2018.02.08-cp35-none-win_amd64.whl (250kB)\n",
      "Building wheels for collected packages: holidays\n",
      "  Running setup.py bdist_wheel for holidays: started\n",
      "  Running setup.py bdist_wheel for holidays: finished with status 'done'\n",
      "  Stored in directory: C:\\Users\\zhizha\\AppData\\Local\\pip\\Cache\\wheels\\1b\\ae\\ce\\97ad21735bc9d31f207f4a9ab1790ea91591153338f305e231\n",
      "Successfully built holidays\n",
      "Installing collected packages: lxml, click, holidays, regex, dateparser, xlrd, eemeter\n",
      "Successfully installed click-6.7 dateparser-0.7.0 eemeter-1.3.3 holidays-0.9.3 lxml-4.1.1 regex-2018.2.8 xlrd-1.1.0\n"
     ]
    }
   ],
   "source": [
    "! pip install eemeter"
   ]
  },
  {
   "cell_type": "code",
   "execution_count": 2,
   "metadata": {},
   "outputs": [
    {
     "data": {
      "text/plain": [
       "'1.3.3'"
      ]
     },
     "execution_count": 2,
     "metadata": {},
     "output_type": "execute_result"
    }
   ],
   "source": [
    "import eemeter; eemeter.get_version()"
   ]
  },
  {
   "cell_type": "code",
   "execution_count": 3,
   "metadata": {},
   "outputs": [
    {
     "name": "stdout",
     "output_type": "stream",
     "text": [
      "Going to analyze the sample data set\n",
      "\n",
      "\n",
      "\n",
      "Running a meter for ABC NATURAL_GAS_CONSUMPTION_SUPPLIED\n",
      "Normal year savings estimate:\n",
      "  1217.526961\n",
      "  68% confidence interval: (1164.475562, 1270.578359)\n",
      "Reporting period savings estimate:\n",
      "  1169.700996\n",
      "  68% confidence interval: (1116.730092, 1222.671900)\n",
      "\n",
      "\n",
      "Running a meter for ABC ELECTRICITY_CONSUMPTION_SUPPLIED\n",
      "Normal year savings estimate:\n",
      "  10465.511272\n",
      "  68% confidence interval: (10297.508645, 10633.513899)\n",
      "Reporting period savings estimate:\n",
      "  10393.837948\n",
      "  68% confidence interval: (10226.081027, 10561.594870)\n"
     ]
    },
    {
     "name": "stderr",
     "output_type": "stream",
     "text": [
      "c:\\users\\zhizha\\appdata\\local\\continuum\\miniconda3\\envs\\mypython3.5\\lib\\site-packages\\eemeter\\modeling\\models\\caltrack_daily.py:80: RuntimeWarning: invalid value encountered in maximum\n",
      "  np.maximum(df.tempF - bp, 0),\n",
      "c:\\users\\zhizha\\appdata\\local\\continuum\\miniconda3\\envs\\mypython3.5\\lib\\site-packages\\eemeter\\modeling\\models\\caltrack_daily.py:84: RuntimeWarning: invalid value encountered in maximum\n",
      "  np.maximum(bp - df.tempF, 0),\n",
      "WARNING:eemeter.ee.derivatives:Failed computing derivative (series=Best-fit cooling coefficient, baseline period)\n",
      "WARNING:eemeter.ee.derivatives:Failed computing derivative (series=Best-fit cooling coefficient, reporting period)\n"
     ]
    }
   ],
   "source": [
    "!eemeter sample\n"
   ]
  },
  {
   "cell_type": "code",
   "execution_count": 9,
   "metadata": {},
   "outputs": [
    {
     "name": "stderr",
     "output_type": "stream",
     "text": [
      "Usage: eemeter analyze [OPTIONS] INPUTS_PATH\n",
      "\n",
      "Error: Invalid value for \"inputs_path\": Path \"projects.csv\" does not exist.\n"
     ]
    }
   ],
   "source": [
    "!eemeter analyze projects.csv"
   ]
  },
  {
   "cell_type": "code",
   "execution_count": null,
   "metadata": {
    "collapsed": true
   },
   "outputs": [],
   "source": []
  }
 ],
 "metadata": {
  "kernelspec": {
   "display_name": "Python 3",
   "language": "python",
   "name": "python3"
  },
  "language_info": {
   "codemirror_mode": {
    "name": "ipython",
    "version": 3
   },
   "file_extension": ".py",
   "mimetype": "text/x-python",
   "name": "python",
   "nbconvert_exporter": "python",
   "pygments_lexer": "ipython3",
   "version": "3.5.4"
  }
 },
 "nbformat": 4,
 "nbformat_minor": 2
}
