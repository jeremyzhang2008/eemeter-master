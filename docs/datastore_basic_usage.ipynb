{
 "cells": [
  {
   "cell_type": "raw",
   "metadata": {
    "raw_mimetype": "text/restructuredtext"
   },
   "source": [
    "Basic Usage: datastore application\n",
    "----------------------------------\n",
    "\n",
    "The datastore is a tool for using the eemeter which automates\n",
    "and helps to scale some of the most frequent tasks accomplished by the\n",
    "eemeter. These tasks include data loading and storage, meter\n",
    "running, result storage and warehousing. It puts a REST API\n",
    "in front of the eemeter and uses a postgres backend.\n",
    "\n",
    "This tutorial is also available as a jupyter :download:`notebook <datastore_basic_usage.ipynb>`."
   ]
  },
  {
   "cell_type": "markdown",
   "metadata": {},
   "source": [
    "<div class=\"alert alert-info\">\n",
    "\n",
    "**Note:**\n",
    "\n",
    "This tutorial assumes you have a working datastore instance.\n",
    "If you do not, please follow the datastore development setup instructions\n",
    "or contact Open EE to setting up a dedicated production deployment.\n",
    "\n",
    "</div>"
   ]
  },
  {
   "cell_type": "markdown",
   "metadata": {},
   "source": [
    "<div class=\"alert alert-info\">\n",
    "\n",
    "**Note:**\n",
    "\n",
    "For small and large datasets, the ETL toolkit exists to ease and\n",
    "speed up the process of loading your data.\n",
    "\n",
    "This tutorial does not cover ETL toolkit usage.\n",
    "For more information on the ETL toolkit, see its API documentation.\n",
    "\n",
    "</div>"
   ]
  },
  {
   "cell_type": "markdown",
   "metadata": {},
   "source": [
    "Setup\n",
    "-----"
   ]
  },
  {
   "cell_type": "code",
   "execution_count": 1,
   "metadata": {
    "collapsed": false
   },
   "outputs": [],
   "source": [
    "# library imports\n",
    "import pandas as pd\n",
    "import requests\n",
    "import pytz"
   ]
  },
  {
   "cell_type": "markdown",
   "metadata": {},
   "source": [
    "If you followed the datastore development setup instructions, you will\n",
    "already have run the command to create a superuser and access credentials.\n",
    "\n",
    "    python manage.py dev_seed\n",
    "    \n",
    "If you haven't already done so, do so now. The `dev_seed` command\n",
    "creates a demo admin user and a sample project.\n",
    "\n",
    "- username: `demo`,\n",
    "- password: `demo-password`,\n",
    "- API access token: `tokstr`.\n",
    "\n",
    "Ensure that your development server is running locally on port 8000 before continuing.\n",
    "\n",
    "    python manage.py runserver\n",
    "    \n",
    "Each request will include an Authorization header\n",
    "\n",
    "    Authorization: Bearer tokstr"
   ]
  },
  {
   "cell_type": "code",
   "execution_count": 2,
   "metadata": {
    "collapsed": true
   },
   "outputs": [],
   "source": [
    "base_url = \"http://0.0.0.0:8000\"\n",
    "token = \"tokstr\"\n",
    "headers = {\"Authorization\": \"Bearer {}\".format(token)}"
   ]
  },
  {
   "cell_type": "markdown",
   "metadata": {},
   "source": [
    "Using the API to get loaded data\n",
    "--------------------------------"
   ]
  },
  {
   "cell_type": "markdown",
   "metadata": {},
   "source": [
    "We can use the API to inspect the data that is loaded into the datastore. (The API can also be used for loading data, but that is not covered here. See the ETL tutorial for more information on loading data.)"
   ]
  },
  {
   "cell_type": "markdown",
   "metadata": {},
   "source": [
    "<div class=\"alert alert-info\">\n",
    "\n",
    "**Note:**\n",
    "\n",
    "We will use the `requests` python package for making requests, but\n",
    "you could just as easily use a tool like cURL or Postman.\n",
    "\n",
    "If you have the `eemeter` package installed, you will also have the\n",
    "`requests` package installed, but if not, you can install it with:\n",
    "\n",
    "<div>\n",
    "</div>\n",
    "\n",
    "    $ pip install requests\n",
    "\n",
    "\n",
    "A request using the requests library looks like this:\n",
    "\n",
    "    import requests\n",
    "    url = \"https://example.com\"\n",
    "    data = {\n",
    "        \"first_name\": \"John\",\n",
    "        \"last_name\": \"Doe\"\n",
    "    }\n",
    "    requests.post(url + \"/api/users/\", json=data)\n",
    "\n",
    "which is equivalent to:\n",
    "\n",
    "    POST /api/users/ HTTP/1.1\n",
    "    Host: example.com\n",
    "    {\n",
    "        \"first_name\": \"John\",\n",
    "        \"last_name\": \"Doe\"\n",
    "    }\n",
    "\n",
    "</div>"
   ]
  },
  {
   "cell_type": "markdown",
   "metadata": {},
   "source": [
    "Since the dev_seed command creates a sample project, this will return\n",
    "a response showing that project. Projects all have a unique \"project_id\", \n",
    "which can be set to whatever is most appropriate (note: it is not used \n",
    "as primary key; that's the 'id' field)."
   ]
  },
  {
   "cell_type": "code",
   "execution_count": 3,
   "metadata": {
    "collapsed": false
   },
   "outputs": [],
   "source": [
    "url = base_url + \"/api/v1/projects/\"\n",
    "projects = requests.get(url, headers=headers).json()"
   ]
  },
  {
   "cell_type": "code",
   "execution_count": 4,
   "metadata": {
    "collapsed": false,
    "scrolled": true
   },
   "outputs": [
    {
     "data": {
      "text/plain": [
       "[{'baseline_period_end': '2012-01-01T00:00:00Z',\n",
       "  'baseline_period_start': None,\n",
       "  'id': 1,\n",
       "  'project_id': 'DEV_SEED_PROJECT',\n",
       "  'project_owner_id': 1,\n",
       "  'reporting_period_end': None,\n",
       "  'reporting_period_start': '2012-02-01T00:00:00Z',\n",
       "  'zipcode': '91104'}]"
      ]
     },
     "execution_count": 4,
     "metadata": {},
     "output_type": "execute_result"
    }
   ],
   "source": [
    "projects"
   ]
  },
  {
   "cell_type": "markdown",
   "metadata": {},
   "source": [
    "Energy trace data will be associated with this project by foreign key\n",
    "through a many-to-many table. This means that projects can have 0 to n\n",
    "associated traces, and that traces can have 0 to n associated projects. \n",
    "\n",
    "Like projects and the project_id field, traces are identified by a unique\n",
    "'trace_id' field, which can also be set to whatever is most appropriate.\n",
    "\n",
    "There are API endpoints used to fetch trace data:\n",
    "\n",
    "1. `/api/v1/traces/`: This stores trace ids, unit, and interpretation.\n",
    "2. `/api/v1/trace_records/`: This stores time-series records associated with each trace.\n",
    "\n",
    "\n",
    "These records are stored by record start timestamp, with the implicit\n",
    "assumption that the `start` timestamp of the next temporal record is \n",
    "the end of the current record. The value of the last record is ignored, \n",
    "and serves as the final end timestamp (and is usually set to null)."
   ]
  },
  {
   "cell_type": "code",
   "execution_count": 5,
   "metadata": {
    "collapsed": false
   },
   "outputs": [],
   "source": [
    "url = base_url + \"/api/v1/traces/?projects={}\".format(projects[0]['id'])\n",
    "traces = requests.get(url, headers=headers).json()"
   ]
  },
  {
   "cell_type": "code",
   "execution_count": 6,
   "metadata": {
    "collapsed": false,
    "scrolled": false
   },
   "outputs": [
    {
     "data": {
      "text/plain": [
       "[{'id': 1,\n",
       "  'interpretation': 'NATURAL_GAS_CONSUMPTION_SUPPLIED',\n",
       "  'trace_id': 'DEV_SEED_TRACE_NATURAL_GAS_MONTHLY',\n",
       "  'unit': 'THERM'},\n",
       " {'id': 2,\n",
       "  'interpretation': 'NATURAL_GAS_CONSUMPTION_SUPPLIED',\n",
       "  'trace_id': 'DEV_SEED_TRACE_NATURAL_GAS_DAILY',\n",
       "  'unit': 'THERM'},\n",
       " {'id': 3,\n",
       "  'interpretation': 'ELECTRICITY_CONSUMPTION_SUPPLIED',\n",
       "  'trace_id': 'DEV_SEED_TRACE_ELECTRICITY_15MIN',\n",
       "  'unit': 'KWH'},\n",
       " {'id': 4,\n",
       "  'interpretation': 'ELECTRICITY_CONSUMPTION_SUPPLIED',\n",
       "  'trace_id': 'DEV_SEED_TRACE_ELECTRICITY_HOURLY',\n",
       "  'unit': 'KWH'},\n",
       " {'id': 5,\n",
       "  'interpretation': 'ELECTRICITY_ON_SITE_GENERATION_UNCONSUMED',\n",
       "  'trace_id': 'DEV_SEED_TRACE_SOLAR_HOURLY',\n",
       "  'unit': 'KWH'},\n",
       " {'id': 6,\n",
       "  'interpretation': 'ELECTRICITY_ON_SITE_GENERATION_UNCONSUMED',\n",
       "  'trace_id': 'DEV_SEED_TRACE_SOLAR_30MIN',\n",
       "  'unit': 'KWH'}]"
      ]
     },
     "execution_count": 6,
     "metadata": {},
     "output_type": "execute_result"
    }
   ],
   "source": [
    "traces"
   ]
  },
  {
   "cell_type": "markdown",
   "metadata": {},
   "source": [
    "We can also query for trace records by trace primary key."
   ]
  },
  {
   "cell_type": "code",
   "execution_count": 7,
   "metadata": {
    "collapsed": false
   },
   "outputs": [],
   "source": [
    "url = base_url + \"/api/v1/trace_records/?trace={}\".format(traces[0]['id'])\n",
    "trace_records = requests.get(url, headers=headers).json()"
   ]
  },
  {
   "cell_type": "code",
   "execution_count": 8,
   "metadata": {
    "collapsed": false,
    "scrolled": true
   },
   "outputs": [
    {
     "data": {
      "text/plain": [
       "[{'estimated': False,\n",
       "  'id': 1,\n",
       "  'start': '2010-01-01T00:00:00Z',\n",
       "  'trace_id': 1,\n",
       "  'value': None},\n",
       " {'estimated': False,\n",
       "  'id': 2,\n",
       "  'start': '2010-02-01T00:00:00Z',\n",
       "  'trace_id': 1,\n",
       "  'value': 1.0},\n",
       " {'estimated': False,\n",
       "  'id': 3,\n",
       "  'start': '2010-03-01T00:00:00Z',\n",
       "  'trace_id': 1,\n",
       "  'value': 1.0}]"
      ]
     },
     "execution_count": 8,
     "metadata": {},
     "output_type": "execute_result"
    }
   ],
   "source": [
    "trace_records[:3]  # first 3 records"
   ]
  },
  {
   "cell_type": "markdown",
   "metadata": {},
   "source": [
    "Running meters\n",
    "--------------\n",
    "\n",
    "Running a meter means pulling trace data, matching it with\n",
    "relevant project data, and evaluating its energy effiency performance. This is\n",
    "the central task performed by the datastore, so if the specifics are\n",
    "unfamiliar, there is a bit more background information worthy of review in the\n",
    "Methods Overview section of the guides.\n",
    "\n",
    "To run a meter, make a request to create a \"meter run\". This request\n",
    "will start a job that runs a meter and saves its results. The result\n",
    "of a meter run is called a \"meter result\"."
   ]
  },
  {
   "cell_type": "code",
   "execution_count": 9,
   "metadata": {
    "collapsed": true
   },
   "outputs": [],
   "source": [
    "from collections import OrderedDict\n",
    "import json"
   ]
  },
  {
   "cell_type": "markdown",
   "metadata": {},
   "source": [
    "Scheduling a single meter run\n",
    "-----------------------------\n",
    "\n",
    "The primary component of this request is a trace primary key.\n",
    "\n",
    "The project data associated with the trace will be automatically pulled\n",
    "in to be associated with the trace."
   ]
  },
  {
   "cell_type": "code",
   "execution_count": 10,
   "metadata": {
    "collapsed": false
   },
   "outputs": [],
   "source": [
    "created_meter_run = requests.post(\n",
    "    base_url + \"/api/v1/meter_runs/\",\n",
    "    json={\n",
    "        \"trace\": traces[0]['id']  # single trace primary key\n",
    "    },\n",
    "    headers=headers\n",
    ").json(object_pairs_hook=OrderedDict)  # retains order of keys"
   ]
  },
  {
   "cell_type": "code",
   "execution_count": 11,
   "metadata": {
    "collapsed": false,
    "scrolled": true
   },
   "outputs": [
    {
     "name": "stdout",
     "output_type": "stream",
     "text": [
      "{\n",
      "  \"id\": 1,\n",
      "  \"trace\": 1,\n",
      "  \"project\": 1,\n",
      "  \"meter_result\": 1,\n",
      "  \"meter_input\": null,\n",
      "  \"status\": \"PENDING\",\n",
      "  \"failure_message\": null,\n",
      "  \"traceback\": null,\n",
      "  \"model_class\": null,\n",
      "  \"model_kwargs\": null,\n",
      "  \"formatter_class\": null,\n",
      "  \"formatter_kwargs\": null,\n",
      "  \"added\": \"2016-11-18T02:16:36.078334Z\",\n",
      "  \"updated\": \"2016-11-18T02:16:36.078375Z\"\n",
      "}\n"
     ]
    }
   ],
   "source": [
    "print(json.dumps(created_meter_run, indent=2))"
   ]
  },
  {
   "cell_type": "markdown",
   "metadata": {},
   "source": [
    "This is a summary of the task to run the meter on the indicated project.\n",
    "\n",
    "The response shows us the complete specification of the meter run behavior,\n",
    "which is as follows:\n",
    "\n",
    "1. `project`: the project primary key (determined implicitly from the trace).\n",
    "2. `trace`: the trace primary key (given in API request).\n",
    "3. `status`: the task status code (in this case `\"PENDING\"`), other options are:\n",
    "   - `\"PENDING\"`: which means the tasks is scheduled but not yet running or completed.\n",
    "   - `\"RUNNING\"`: task is currently running.\n",
    "   - `\"SUCCESS\"`: successful completion.\n",
    "   - `\"FAILED\"`: failed due to some sort of error.\n",
    "4. `meter_result`: the primary key of the meter result.\n",
    "5. `meter_input`: has not yet been created (this is the\n",
    "   complete serialized input to the meter, as required by the eemeter.)\n",
    "6. `model_class` and `model_kwargs`: The model class and arguments used in meter fitting.\n",
    "   - If these are left blank, default values will be used.\n",
    "7. `formatter_class` and `formatter_kwargs`: The formatter class and arguments used in meter fitting.\n",
    "   - If these are left blank, default values will be used.\n",
    "\n",
    "If you wish, you can also specify many of these properties explicitly\n",
    "and we will do so in a following section.\n",
    "\n",
    "Let's make another call to inspect the state of this meter run"
   ]
  },
  {
   "cell_type": "code",
   "execution_count": 12,
   "metadata": {
    "collapsed": true
   },
   "outputs": [],
   "source": [
    "meter_run = requests.get(\n",
    "    base_url + \"/api/v1/meter_runs/{}/\".format(created_meter_run['id']),\n",
    "    headers=headers\n",
    ").json(object_pairs_hook=OrderedDict)"
   ]
  },
  {
   "cell_type": "code",
   "execution_count": 13,
   "metadata": {
    "collapsed": false,
    "scrolled": true
   },
   "outputs": [
    {
     "name": "stdout",
     "output_type": "stream",
     "text": [
      "{\n",
      "  \"id\": 1,\n",
      "  \"trace\": 1,\n",
      "  \"project\": 1,\n",
      "  \"meter_result\": 1,\n",
      "  \"meter_input\": \"https://storage.googleapis.com/my-storage-bucket/datastore/meter_run_inputs/5fa24b58-444b-4c72-a8c9-bb0327b23118.json\",\n",
      "  \"status\": \"SUCCESS\",\n",
      "  \"failure_message\": null,\n",
      "  \"traceback\": null,\n",
      "  \"model_class\": null,\n",
      "  \"model_kwargs\": null,\n",
      "  \"formatter_class\": null,\n",
      "  \"formatter_kwargs\": null,\n",
      "  \"added\": \"2016-11-18T02:16:36.078334Z\",\n",
      "  \"updated\": \"2016-11-18T02:17:44.356211Z\"\n",
      "}\n"
     ]
    }
   ],
   "source": [
    "print(json.dumps(meter_run, indent=2))"
   ]
  },
  {
   "cell_type": "markdown",
   "metadata": {},
   "source": [
    "The associated meter result is also available now and carries\n",
    "a set of outputs that include the meter run value and additionally:\n",
    "\n",
    "1. `meter_output`: serialized output of the meter run.\n",
    "2. `eemeter_version` and `datastore_version`: software version\n",
    "   of eemeter library and datastore application"
   ]
  },
  {
   "cell_type": "code",
   "execution_count": 14,
   "metadata": {
    "collapsed": true
   },
   "outputs": [],
   "source": [
    "meter_result = requests.get(\n",
    "    base_url + \"/api/v1/meter_results/{}/\".format(created_meter_run['meter_result']),\n",
    "    headers=headers\n",
    ").json(object_pairs_hook=OrderedDict)"
   ]
  },
  {
   "cell_type": "code",
   "execution_count": 15,
   "metadata": {
    "collapsed": false,
    "scrolled": true
   },
   "outputs": [
    {
     "name": "stdout",
     "output_type": "stream",
     "text": [
      "{\n",
      "  \"id\": 1,\n",
      "  \"trace\": 1,\n",
      "  \"project\": 1,\n",
      "  \"meter_run\": 1,\n",
      "  \"meter_output\": \"https://storage.googleapis.com/my-storage-bucket/datastore/meter_run_outputs/e1896b44-0b89-49ac-93e1-8eb6e44987bd.json\",\n",
      "  \"status\": \"SUCCESS\",\n",
      "  \"eemeter_version\": \"0.4.12\",\n",
      "  \"datastore_version\": \"0.2.3\",\n",
      "  \"model_class\": \"BillingElasticNetCVModel\",\n",
      "  \"model_kwargs\": {\n",
      "    \"heating_base_temp\": 65,\n",
      "    \"cooling_base_temp\": 65\n",
      "  },\n",
      "  \"formatter_class\": \"ModelDataBillingFormatter\",\n",
      "  \"formatter_kwargs\": {},\n",
      "  \"added\": \"2016-11-18T02:17:44.203325Z\",\n",
      "  \"updated\": \"2016-11-18T02:17:44.223200Z\"\n",
      "}\n"
     ]
    }
   ],
   "source": [
    "print(json.dumps(meter_result, indent=2))"
   ]
  },
  {
   "cell_type": "markdown",
   "metadata": {},
   "source": [
    "Customizing meter runs\n",
    "----------------------\n",
    "\n",
    "Meter runs can also be customized by specifying various attributes\n",
    "explicitly, such as custom arguments for the model class."
   ]
  },
  {
   "cell_type": "code",
   "execution_count": 16,
   "metadata": {
    "collapsed": true
   },
   "outputs": [],
   "source": [
    "custom_meter_run = requests.post(\n",
    "    base_url + \"/api/v1/meter_runs/\",\n",
    "    json={\n",
    "        \"trace\": 2,\n",
    "        \"project\": 1,\n",
    "        \"model_kwargs\": {\n",
    "            \"heating_base_temp\": 64,  # different temperature\n",
    "            \"cooling_base_temp\": 64,\n",
    "        },\n",
    "    },\n",
    "    headers=headers\n",
    ").json(object_pairs_hook=OrderedDict)"
   ]
  },
  {
   "cell_type": "code",
   "execution_count": 17,
   "metadata": {
    "collapsed": false
   },
   "outputs": [
    {
     "name": "stdout",
     "output_type": "stream",
     "text": [
      "{\n",
      "  \"id\": 2,\n",
      "  \"trace\": 2,\n",
      "  \"project\": 1,\n",
      "  \"meter_result\": 2,\n",
      "  \"meter_input\": null,\n",
      "  \"status\": \"PENDING\",\n",
      "  \"failure_message\": null,\n",
      "  \"traceback\": null,\n",
      "  \"model_class\": null,\n",
      "  \"model_kwargs\": {\n",
      "    \"heating_base_temp\": 64,\n",
      "    \"cooling_base_temp\": 64\n",
      "  },\n",
      "  \"formatter_class\": null,\n",
      "  \"formatter_kwargs\": null,\n",
      "  \"added\": \"2016-11-18T02:17:44.681341Z\",\n",
      "  \"updated\": \"2016-11-18T02:17:44.681374Z\"\n",
      "}\n"
     ]
    }
   ],
   "source": [
    "print(json.dumps(custom_meter_run, indent=2))"
   ]
  },
  {
   "cell_type": "markdown",
   "metadata": {},
   "source": [
    "Or, if you leave out the project and trace attributes, you can specify the\n",
    "exact serialized input. This means that if serialized meter inputs are available,\n",
    "you need not explicitly load traces and projects through ETL."
   ]
  },
  {
   "cell_type": "raw",
   "metadata": {
    "raw_mimetype": "text/restructuredtext"
   },
   "source": [
    ".. If you are running tutorial as a jupyter notebook, the download is\n",
    "   available where you downloaded this notebook on eemeter.readthedocs.io\n",
    "\n",
    "Please download a preformatted input :download:`file <meter_input_example.json>`\n",
    "for this step."
   ]
  },
  {
   "cell_type": "code",
   "execution_count": 18,
   "metadata": {
    "collapsed": false
   },
   "outputs": [],
   "source": [
    "with open('meter_input_example.json', 'r') as f:\n",
    "    meter_input = f.read()  # loaded as a serialized string\n",
    "    meter_input_meter_run = requests.post(\n",
    "        base_url + \"/api/v1/meter_runs/\",\n",
    "        json={\n",
    "            \"meter_input\": meter_input,\n",
    "        },\n",
    "        headers=headers\n",
    "    ).json(object_pairs_hook=OrderedDict)"
   ]
  },
  {
   "cell_type": "code",
   "execution_count": 19,
   "metadata": {
    "collapsed": false,
    "scrolled": true
   },
   "outputs": [
    {
     "name": "stdout",
     "output_type": "stream",
     "text": [
      "{\n",
      "  \"id\": 3,\n",
      "  \"trace\": null,\n",
      "  \"project\": null,\n",
      "  \"meter_result\": 3,\n",
      "  \"meter_input\": \"https://storage.googleapis.com/my-storage-bucket/datastore/meter_run_inputs/bf0629db-0c81-4ded-8dcc-adbd0ddbf3f3.json\",\n",
      "  \"status\": \"PENDING\",\n",
      "  \"failure_message\": null,\n",
      "  \"traceback\": null,\n",
      "  \"model_class\": null,\n",
      "  \"model_kwargs\": null,\n",
      "  \"formatter_class\": null,\n",
      "  \"formatter_kwargs\": null,\n",
      "  \"added\": \"2016-11-18T02:19:23.155268Z\",\n",
      "  \"updated\": \"2016-11-18T02:19:23.155857Z\"\n",
      "}\n"
     ]
    }
   ],
   "source": [
    "print(json.dumps(meter_input_meter_run, indent=2))"
   ]
  },
  {
   "cell_type": "code",
   "execution_count": 20,
   "metadata": {
    "collapsed": false
   },
   "outputs": [
    {
     "name": "stdout",
     "output_type": "stream",
     "text": [
      "{\n",
      "  \"id\": 3,\n",
      "  \"trace\": null,\n",
      "  \"project\": null,\n",
      "  \"meter_result\": 3,\n",
      "  \"meter_input\": \"https://storage.googleapis.com/my-storage-bucket/datastore/meter_run_inputs/bf0629db-0c81-4ded-8dcc-adbd0ddbf3f3.json\",\n",
      "  \"status\": \"SUCCESS\",\n",
      "  \"failure_message\": null,\n",
      "  \"traceback\": null,\n",
      "  \"model_class\": null,\n",
      "  \"model_kwargs\": null,\n",
      "  \"formatter_class\": null,\n",
      "  \"formatter_kwargs\": null,\n",
      "  \"added\": \"2016-11-18T02:19:23.155268Z\",\n",
      "  \"updated\": \"2016-11-18T02:22:13.679220Z\"\n",
      "}\n"
     ]
    }
   ],
   "source": [
    "meter_run = requests.get(\n",
    "    base_url + \"/api/v1/meter_runs/{}/\".format(meter_input_meter_run['id']),\n",
    "    headers=headers\n",
    ").json(object_pairs_hook=OrderedDict)\n",
    "print(json.dumps(meter_run, indent=2))"
   ]
  },
  {
   "cell_type": "code",
   "execution_count": 21,
   "metadata": {
    "collapsed": false
   },
   "outputs": [
    {
     "name": "stdout",
     "output_type": "stream",
     "text": [
      "{\n",
      "  \"id\": 3,\n",
      "  \"trace\": null,\n",
      "  \"project\": null,\n",
      "  \"meter_run\": 3,\n",
      "  \"meter_output\": \"https://storage.googleapis.com/my-storage-bucket/datastore/meter_run_outputs/7ab2bd31-a723-4c75-afa6-424d560ab284.json\",\n",
      "  \"status\": \"SUCCESS\",\n",
      "  \"eemeter_version\": \"0.4.12\",\n",
      "  \"datastore_version\": \"0.2.3\",\n",
      "  \"model_class\": \"SeasonalElasticNetCVModel\",\n",
      "  \"model_kwargs\": {\n",
      "    \"heating_base_temp\": 65,\n",
      "    \"cooling_base_temp\": 65\n",
      "  },\n",
      "  \"formatter_class\": \"ModelDataFormatter\",\n",
      "  \"formatter_kwargs\": {\n",
      "    \"freq_str\": \"D\"\n",
      "  },\n",
      "  \"added\": \"2016-11-18T02:22:13.566866Z\",\n",
      "  \"updated\": \"2016-11-18T02:22:13.583138Z\"\n",
      "}\n"
     ]
    }
   ],
   "source": [
    "meter_result = requests.get(\n",
    "    base_url + \"/api/v1/meter_results/{}/\".format(meter_input_meter_run['meter_result']),\n",
    "    headers=headers\n",
    ").json(object_pairs_hook=OrderedDict)\n",
    "print(json.dumps(meter_result, indent=2))"
   ]
  },
  {
   "cell_type": "markdown",
   "metadata": {},
   "source": [
    "Meters can also be triggered in bulk; the next section covers this."
   ]
  },
  {
   "cell_type": "markdown",
   "metadata": {},
   "source": [
    "Bulk-triggering meter runs\n",
    "--------------------------\n",
    "\n",
    "Often it is more convenient to trigger many meter runs at once than to do it trace-by-trace. This can be done either through the API or through a datastore management command.\n",
    "\n",
    "### Through the API\n",
    "\n",
    "The following sends a list of \"targets\" to the datastore for triggering. Here, we're triggering a set of meter runs for one project, which will trigger meter runs for all associated traces."
   ]
  },
  {
   "cell_type": "markdown",
   "metadata": {},
   "source": [
    "<div class=\"alert alert-warning\">\n",
    "**Warning:**\n",
    "    \n",
    "The following may take a few minutes to complete.\n",
    "If you have enabled celery workers, it will execute more quickly\n",
    "and computation will continue in the background. If this is the\n",
    "case for you, you should wait until that computation has completed\n",
    "before continuing.\n",
    "\n",
    "For more information on background worker setup, see datastore setup instructions.\n",
    "</div>"
   ]
  },
  {
   "cell_type": "markdown",
   "metadata": {},
   "source": [
    "To follow progress, watch the datastore logs or use the `meter_progress` command.\n",
    "In a development environment, these are printed in the `python manage.py runserver` output."
   ]
  },
  {
   "cell_type": "code",
   "execution_count": 22,
   "metadata": {
    "collapsed": false
   },
   "outputs": [],
   "source": [
    "bulk_created_meter_runs = requests.post(\n",
    "    base_url + \"/api/v1/meter_runs/bulk/\",  # note: different url!\n",
    "    json={\n",
    "        \"targets\": [  # a list of targets can be provided\n",
    "            {\n",
    "                \"project\": projects[0]['id']\n",
    "            },\n",
    "        ]\n",
    "    },\n",
    "    headers=headers\n",
    ").json(object_pairs_hook=OrderedDict)"
   ]
  },
  {
   "cell_type": "code",
   "execution_count": 23,
   "metadata": {
    "collapsed": false,
    "scrolled": false
   },
   "outputs": [
    {
     "name": "stdout",
     "output_type": "stream",
     "text": [
      "[\n",
      "  [\n",
      "    {\n",
      "      \"id\": 4,\n",
      "      \"trace\": 3,\n",
      "      \"project\": 1,\n",
      "      \"meter_result\": 4,\n",
      "      \"meter_input\": null,\n",
      "      \"status\": \"PENDING\",\n",
      "      \"failure_message\": null,\n",
      "      \"traceback\": null,\n",
      "      \"model_class\": null,\n",
      "      \"model_kwargs\": null,\n",
      "      \"formatter_class\": null,\n",
      "      \"formatter_kwargs\": null,\n",
      "      \"added\": \"2016-11-18T02:22:14.088620Z\",\n",
      "      \"updated\": \"2016-11-18T02:22:14.088658Z\"\n",
      "    },\n",
      "    {\n",
      "      \"id\": 5,\n",
      "      \"trace\": 4,\n",
      "      \"project\": 1,\n",
      "      \"meter_result\": 5,\n",
      "      \"meter_input\": null,\n",
      "      \"status\": \"PENDING\",\n",
      "      \"failure_message\": null,\n",
      "      \"traceback\": null,\n",
      "      \"model_class\": null,\n",
      "      \"model_kwargs\": null,\n",
      "      \"formatter_class\": null,\n",
      "      \"formatter_kwargs\": null,\n",
      "      \"added\": \"2016-11-18T02:26:15.683349Z\",\n",
      "      \"updated\": \"2016-11-18T02:26:15.683442Z\"\n",
      "    },\n",
      "    {\n",
      "      \"id\": 6,\n",
      "      \"trace\": 5,\n",
      "      \"project\": 1,\n",
      "      \"meter_result\": 6,\n",
      "      \"meter_input\": null,\n",
      "      \"status\": \"PENDING\",\n",
      "      \"failure_message\": null,\n",
      "      \"traceback\": null,\n",
      "      \"model_class\": null,\n",
      "      \"model_kwargs\": null,\n",
      "      \"formatter_class\": null,\n",
      "      \"formatter_kwargs\": null,\n",
      "      \"added\": \"2016-11-18T02:28:00.757629Z\",\n",
      "      \"updated\": \"2016-11-18T02:28:00.757666Z\"\n",
      "    },\n",
      "    {\n",
      "      \"id\": 7,\n",
      "      \"trace\": 6,\n",
      "      \"project\": 1,\n",
      "      \"meter_result\": 7,\n",
      "      \"meter_input\": null,\n",
      "      \"status\": \"PENDING\",\n",
      "      \"failure_message\": null,\n",
      "      \"traceback\": null,\n",
      "      \"model_class\": null,\n",
      "      \"model_kwargs\": null,\n",
      "      \"formatter_class\": null,\n",
      "      \"formatter_kwargs\": null,\n",
      "      \"added\": \"2016-11-18T02:29:09.066736Z\",\n",
      "      \"updated\": \"2016-11-18T02:29:09.066777Z\"\n",
      "    },\n",
      "    {\n",
      "      \"id\": 8,\n",
      "      \"trace\": 1,\n",
      "      \"project\": 1,\n",
      "      \"meter_result\": 8,\n",
      "      \"meter_input\": null,\n",
      "      \"status\": \"PENDING\",\n",
      "      \"failure_message\": null,\n",
      "      \"traceback\": null,\n",
      "      \"model_class\": null,\n",
      "      \"model_kwargs\": null,\n",
      "      \"formatter_class\": null,\n",
      "      \"formatter_kwargs\": null,\n",
      "      \"added\": \"2016-11-18T02:32:05.062196Z\",\n",
      "      \"updated\": \"2016-11-18T02:32:05.062238Z\"\n",
      "    },\n",
      "    {\n",
      "      \"id\": 9,\n",
      "      \"trace\": 2,\n",
      "      \"project\": 1,\n",
      "      \"meter_result\": 9,\n",
      "      \"meter_input\": null,\n",
      "      \"status\": \"PENDING\",\n",
      "      \"failure_message\": null,\n",
      "      \"traceback\": null,\n",
      "      \"model_class\": null,\n",
      "      \"model_kwargs\": null,\n",
      "      \"formatter_class\": null,\n",
      "      \"formatter_kwargs\": null,\n",
      "      \"added\": \"2016-11-18T02:32:30.471808Z\",\n",
      "      \"updated\": \"2016-11-18T02:32:30.471864Z\"\n",
      "    }\n",
      "  ]\n",
      "]\n"
     ]
    }
   ],
   "source": [
    "print(json.dumps(bulk_created_meter_runs, indent=2))"
   ]
  },
  {
   "cell_type": "markdown",
   "metadata": {},
   "source": [
    "Note that results are returned grouped by target (as a list).\n",
    "\n",
    "If model or formatter class or kwarg arguments are supplied, they will be\n",
    "applied to all meter_runs."
   ]
  },
  {
   "cell_type": "markdown",
   "metadata": {},
   "source": [
    "### Through a management command\n",
    "\n",
    "The other way to bulk-trigger meter runs is through a management command.\n",
    "\n",
    "    python manage.py run_meters --all-traces\n",
    "    \n",
    "You can monitor the progress of these commands with:\n",
    "\n",
    "    python manage.py meter_progress --all-meters --poll-until-complete"
   ]
  },
  {
   "cell_type": "markdown",
   "metadata": {},
   "source": [
    "Meter result warehouse tables\n",
    "-----------------------------\n",
    "\n",
    "For easy access to summarized meter result data, it may be helpful to\n",
    "use the meter result \"mart\", which is part of the data warehouse\n",
    "that can be created in the postgres database.\n",
    "\n",
    "Data warehouse tables make it easier to query into results by\n",
    "summarizing the most relevant information.\n",
    "\n",
    "To create warehouse tables, use the following management command:\n",
    "\n",
    "    $ python manage.py meterresultmart recreate\n",
    "    \n",
    "This is equivalent to running\n",
    "\n",
    "    $ python manage.py meterresultmart destroy\n",
    "    $ python manage.py meterresultmart create\n",
    "    \n",
    "Running the `create` command without first destroying will give duplicate rows.\n",
    "\n",
    "### Using the `warehouse_meterresultmart` table\n",
    "\n",
    "The easiest way to access the results of the warehouse is to connect an\n",
    "analytics service which can read from the database directly.\n",
    "\n",
    "If that is not available to you, you can also query directly with postgres. Assuming you have a database set up called \"datastore\" (yours may be named differently, depending on how you set it up), you can connect as follows:\n",
    "\n",
    "    $ psql datastore\n",
    "    psql (9.4.1)\n",
    "    Type \"help\" for help.\n",
    "\n",
    "    datastore=# SELECT\n",
    "      trace_id\n",
    "      , differential_lower_bound as savings_lower_bound\n",
    "      , differential_value as savings\n",
    "      , differential_upper_bound as savings_upper_bound \n",
    "    FROM\n",
    "      warehouse_meterresultmart\n",
    "    WHERE\n",
    "      project_id='DEV_SEED_PROJECT'\n",
    "    AND\n",
    "      derivative_interpretation='gross_predicted'\n",
    "    ORDER BY\n",
    "      project_id\n",
    "      , trace_id\n",
    "      , derivative_interpretation;\n",
    "      \n",
    "                  trace_id              | savings_lower_bound |      savings      | savings_upper_bound \n",
    "    ------------------------------------+---------------------+-------------------+---------------------\n",
    "     DEV_SEED_TRACE_ELECTRICITY_15MIN   |    2.21781163934072 |  4.93938974304001 |     7.6609678467393\n",
    "     DEV_SEED_TRACE_ELECTRICITY_HOURLY  |      10.47300113325 |  12.9734969290002 |    15.4739927247505\n",
    "     DEV_SEED_TRACE_NATURAL_GAS_DAILY   |   -12.4594891213768 | -6.03261538803008 |   0.394258345316612\n",
    "     DEV_SEED_TRACE_NATURAL_GAS_MONTHLY |   -774.348987437802 | -580.576019960851 |     -386.8030524839\n",
    "     DEV_SEED_TRACE_SOLAR_30MIN         |   0.848394785466816 |  3.81981394853938 |    6.79123311161194\n",
    "     DEV_SEED_TRACE_SOLAR_HOURLY        |                     |                   |                    \n",
    "    (6 rows)\n",
    "    datastore=# "
   ]
  },
  {
   "cell_type": "markdown",
   "metadata": {},
   "source": [
    "Aggregations and groups\n",
    "-----------------------\n",
    "\n",
    "Traces can be aggregated by putting them into groups and\n",
    "triggering aggregation runs.\n",
    "\n",
    "Groups must be named, and are defined by combinations of\n",
    "filters over project_id, trace_id, or arbitary project metadata.\n",
    "\n",
    "Filters are created with the following attributes as either\n",
    "a \"filter\" or a \"filter_boolean\", which is combination of two\n",
    "filters.\n",
    "\n",
    "Filter types:\n",
    "\n",
    "`\"filter\"`:\n",
    "  \n",
    "  - `\"target\"`, can be:\n",
    "    - \"project_id\"\n",
    "    - \"trace_id\"\n",
    "    - \"project_metadata|NAME_OF_ATTRIBUTE\"\n",
    "  - `\"comparison\"`, can be:\n",
    "    - \">\", \">=\", \"<\", \"<=\", \"==\", \"!=\"\n",
    "    - \"in\", \"not in\"\n",
    "  - `\"value\"`, can be:\n",
    "    - int, float, str (for comparisons \">\", \">=\", \"<\", \"<=\", \"==\", \"!=\")\n",
    "    - list of values (for comparisons \"in\", \"not in\")\n",
    "\n",
    "`\"filter_boolean\"`:\n",
    "\n",
    "  - `\"boolean\"`, can be:\n",
    "    - \"and\", \"or\"\n",
    "  - `\"filter_a\"`, can be:\n",
    "    - filter, filter_boolean\n",
    "  - `\"filter_b\"`, can be:\n",
    "    - filter, filter_boolean\n",
    "\n",
    "Example filter specification creation:"
   ]
  },
  {
   "cell_type": "code",
   "execution_count": 24,
   "metadata": {
    "collapsed": true
   },
   "outputs": [],
   "source": [
    "filter_specification = {\n",
    "    \"filter\": {\n",
    "        \"target\": \"project_id\",\n",
    "        \"comparison\": \"==\",\n",
    "        \"value\": projects[0][\"project_id\"],\n",
    "    }\n",
    "}"
   ]
  },
  {
   "cell_type": "code",
   "execution_count": 25,
   "metadata": {
    "collapsed": false
   },
   "outputs": [],
   "source": [
    "trace_group = requests.post(\n",
    "    base_url + \"/api/v1/trace_groups/\",  # note: different url!\n",
    "    json={\n",
    "        \"name\": \"project_group\",\n",
    "        \"filter_specification\": filter_specification,\n",
    "    },\n",
    "    headers=headers\n",
    ").json(object_pairs_hook=OrderedDict)"
   ]
  },
  {
   "cell_type": "code",
   "execution_count": 26,
   "metadata": {
    "collapsed": false,
    "scrolled": true
   },
   "outputs": [
    {
     "name": "stdout",
     "output_type": "stream",
     "text": [
      "{\n",
      "  \"id\": 3,\n",
      "  \"name\": \"project_group\",\n",
      "  \"filter_specification\": {\n",
      "    \"filter\": {\n",
      "      \"comparison\": \"==\",\n",
      "      \"target\": \"project_id\",\n",
      "      \"value\": \"DEV_SEED_PROJECT\"\n",
      "    }\n",
      "  }\n",
      "}\n"
     ]
    }
   ],
   "source": [
    "print(json.dumps(trace_group, indent=2))"
   ]
  },
  {
   "cell_type": "code",
   "execution_count": 27,
   "metadata": {
    "collapsed": false
   },
   "outputs": [],
   "source": [
    "aggregation_run = requests.post(\n",
    "    base_url + \"/api/v1/aggregation_runs/\",\n",
    "    json={                                                                                                                 \n",
    "        \"group\": trace_group['id'],                                                                                                                                              \n",
    "        \"trace_interpretation\": \"ELECTRICITY_CONSUMPTION_SUPPLIED\",                                                                                                     \n",
    "        \"derivative_interpretation\": \"annualized_weather_normal\",                                                                                                       \n",
    "    },\n",
    "    headers=headers\n",
    ").json(object_pairs_hook=OrderedDict)"
   ]
  },
  {
   "cell_type": "code",
   "execution_count": 28,
   "metadata": {
    "collapsed": false,
    "scrolled": true
   },
   "outputs": [
    {
     "name": "stdout",
     "output_type": "stream",
     "text": [
      "{\n",
      "  \"id\": 7,\n",
      "  \"group\": 3,\n",
      "  \"aggregation_result\": 1,\n",
      "  \"aggregation_input\": null,\n",
      "  \"status\": \"PENDING\",\n",
      "  \"traceback\": null,\n",
      "  \"failure_message\": null,\n",
      "  \"trace_interpretation\": \"ELECTRICITY_CONSUMPTION_SUPPLIED\",\n",
      "  \"derivative_interpretation\": \"annualized_weather_normal\",\n",
      "  \"aggregation_interpretation\": \"SUM\",\n",
      "  \"added\": \"2016-11-18T03:04:00.425945Z\",\n",
      "  \"updated\": \"2016-11-18T03:04:00.426601Z\"\n",
      "}\n"
     ]
    }
   ],
   "source": [
    "print(json.dumps(aggregation_run, indent=2))"
   ]
  },
  {
   "cell_type": "code",
   "execution_count": 29,
   "metadata": {
    "collapsed": false
   },
   "outputs": [
    {
     "name": "stdout",
     "output_type": "stream",
     "text": [
      "{\n",
      "  \"id\": 7,\n",
      "  \"group\": 3,\n",
      "  \"aggregation_result\": 1,\n",
      "  \"aggregation_input\": \"https://storage.googleapis.com/my-storage-bucket/datastore/aggregation_inputs/2b986708-1076-4a16-a2dd-31a78f93d817.json\",\n",
      "  \"status\": \"SUCCESS\",\n",
      "  \"traceback\": null,\n",
      "  \"failure_message\": null,\n",
      "  \"trace_interpretation\": \"ELECTRICITY_CONSUMPTION_SUPPLIED\",\n",
      "  \"derivative_interpretation\": \"annualized_weather_normal\",\n",
      "  \"aggregation_interpretation\": \"SUM\",\n",
      "  \"added\": \"2016-11-18T03:04:00.425945Z\",\n",
      "  \"updated\": \"2016-11-18T03:04:03.806500Z\"\n",
      "}\n"
     ]
    }
   ],
   "source": [
    "aggregation_run = requests.get(\n",
    "    base_url + \"/api/v1/aggregation_runs/{}/\".format(aggregation_run[\"id\"]),\n",
    "    headers=headers\n",
    ").json(object_pairs_hook=OrderedDict)\n",
    "print(json.dumps(aggregation_run, indent=2))"
   ]
  },
  {
   "cell_type": "code",
   "execution_count": 30,
   "metadata": {
    "collapsed": false
   },
   "outputs": [
    {
     "name": "stdout",
     "output_type": "stream",
     "text": [
      "{\n",
      "  \"id\": 1,\n",
      "  \"aggregation_run\": 7,\n",
      "  \"trace_interpretation\": \"ELECTRICITY_CONSUMPTION_SUPPLIED\",\n",
      "  \"derivative_interpretation\": \"annualized_weather_normal\",\n",
      "  \"aggregation_interpretation\": \"SUM\",\n",
      "  \"aggregation_output\": \"https://storage.googleapis.com/my-storage-bucket/datastore/aggregation_outputs/4295fd00-4ecd-494e-9eeb-884ef620ce14.json\",\n",
      "  \"derivatives\": [\n",
      "    7,\n",
      "    9\n",
      "  ],\n",
      "  \"unit\": \"KWH\",\n",
      "  \"baseline_value\": 4863.15574521486,\n",
      "  \"baseline_lower\": 1.5110421742195,\n",
      "  \"baseline_upper\": 1.5110421742195,\n",
      "  \"baseline_n\": 730.0,\n",
      "  \"reporting_value\": 4860.88336194519,\n",
      "  \"reporting_lower\": 0.545198012058528,\n",
      "  \"reporting_upper\": 0.545198012058528,\n",
      "  \"reporting_n\": 730.0,\n",
      "  \"differential_direction\": \"BASELINE_MINUS_REPORTING\",\n",
      "  \"differential_value\": 2.27238326967017,\n",
      "  \"differential_lower\": 1.60639015330105,\n",
      "  \"differential_upper\": 1.60639015330105,\n",
      "  \"differential_n\": 1460.0,\n",
      "  \"eemeter_version\": \"0.4.12\",\n",
      "  \"datastore_version\": \"0.2.3\",\n",
      "  \"added\": \"2016-11-18T03:04:03.701863Z\",\n",
      "  \"updated\": \"2016-11-18T03:04:03.701911Z\"\n",
      "}\n"
     ]
    }
   ],
   "source": [
    "aggregation_result = requests.get(\n",
    "    base_url + \"/api/v1/aggregation_results/{}/\".format(aggregation_run[\"aggregation_result\"]),\n",
    "    headers=headers\n",
    ").json(object_pairs_hook=OrderedDict)\n",
    "print(json.dumps(aggregation_result, indent=2))"
   ]
  },
  {
   "cell_type": "markdown",
   "metadata": {},
   "source": [
    "### Additional filter examples:\n",
    "\n",
    "All traces:\n",
    "\n",
    "    None  # leave blank\n",
    "\n",
    "Traces with project cost less than or equal to 10000:\n",
    "\n",
    "    {\n",
    "        \"filter\": {\n",
    "            \"target\": \"project_metadata|project_cost\",\n",
    "            \"comparison\": \"<=\",\n",
    "            \"value\": 10000,\n",
    "        }\n",
    "    }\n",
    "\n",
    "Traces with project_id in particular set:\n",
    "\n",
    "    {\n",
    "        \"filter\": {\n",
    "            \"target\": \"project_id\",\n",
    "            \"comparison\": \"in\",\n",
    "            \"value\": [\n",
    "                \"PROJECT_101\",\n",
    "                \"PROJECT_102\"\n",
    "            ]\n",
    "        }\n",
    "    }\n",
    "\n",
    "Traces with project_id in particular set or with project cost greater than or equal to 5000:\n",
    "\n",
    "    {\n",
    "        \"filter_boolean\": {\n",
    "            \"boolean\": \"or\",\n",
    "            \"filter_a\": {\n",
    "                \"filter\": {\n",
    "                    \"target\": \"project_id\",\n",
    "                    \"comparison\": \"in\",\n",
    "                    \"value\": [\n",
    "                        \"PROJECT_101\",\n",
    "                        \"PROJECT_102\"\n",
    "                    ]\n",
    "                }\n",
    "            },\n",
    "            \"filter_b\": {\n",
    "                \"filter\": {\n",
    "                    \"target\": \"project_metadata|project_cost\",\n",
    "                    \"comparison\": \">=\",\n",
    "                    \"value\": 5000,\n",
    "                }\n",
    "            }\n",
    "        }\n",
    "    }\n",
    "\n",
    "Deeply nested filter:\n",
    "\n",
    "    {\n",
    "        \"filter_boolean\": {\n",
    "            \"boolean\": \"and\",\n",
    "            \"filter_a\": {\n",
    "                \"filter_boolean\": {\n",
    "                    \"boolean\": \"and\",\n",
    "                    \"filter_a\": {\n",
    "                        \"filter\": {\n",
    "                            \"target\": \"project_metadata|contractor\",\n",
    "                            \"comparison\": \"==\",\n",
    "                            \"value\": \"AAA CONTRACTING\",\n",
    "                        }\n",
    "                    },\n",
    "                    \"filter_b\": {\n",
    "                        \"filter\": {\n",
    "                            \"target\": \"project_metadata|project_type\",\n",
    "                            \"comparison\": \"!=\",\n",
    "                            \"value\": \"SOLAR\"\n",
    "                        }\n",
    "                    },\n",
    "                }\n",
    "            },\n",
    "            \"filter_b\": {\n",
    "                \"filter\": {\n",
    "                    \"target\": \"project_metadata|project_cost\",\n",
    "                    \"comparison\": \">=\",\n",
    "                    \"value\": 5000,\n",
    "                }\n",
    "            }\n",
    "        }\n",
    "    }\n",
    "    "
   ]
  },
  {
   "cell_type": "markdown",
   "metadata": {},
   "source": [
    "Group statistics warehouse tables\n",
    "---------------------------------\n",
    "\n",
    "For easy access to summarized aggregated data, it may be helpful to\n",
    "use the group statistics mart, which is part of the data warehouse\n",
    "that can be created in the postgres database.\n",
    "\n",
    "This supplements the meter result mart by providing summarized\n",
    "group statistics.\n",
    "\n",
    "Just as with the meter result mart, the group statistics mart\n",
    "can also be created with a management command:\n",
    "\n",
    "    $ python manage.py groupstatisticsmart recreate"
   ]
  }
 ],
 "metadata": {
  "celltoolbar": "Raw Cell Format",
  "kernelspec": {
   "display_name": "Python 3",
   "language": "python",
   "name": "python3"
  },
  "language_info": {
   "codemirror_mode": {
    "name": "ipython",
    "version": 3
   },
   "file_extension": ".py",
   "mimetype": "text/x-python",
   "name": "python",
   "nbconvert_exporter": "python",
   "pygments_lexer": "ipython3",
   "version": "3.4.3"
  }
 },
 "nbformat": 4,
 "nbformat_minor": 1
}
