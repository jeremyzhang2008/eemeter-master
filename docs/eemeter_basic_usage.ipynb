{
 "cells": [
  {
   "cell_type": "raw",
   "metadata": {
    "raw_mimetype": "text/restructuredtext"
   },
   "source": [
    "Basic Usage: eemeter package\n",
    "----------------------------\n",
    "\n",
    "This tutorial is also available as a jupyter :download:`notebook <eemeter_basic_usage.ipynb>`"
   ]
  },
  {
   "cell_type": "markdown",
   "metadata": {},
   "source": [
    "<div class=\"alert alert-info\">\n",
    "\n",
    "**Note:**\n",
    "\n",
    "Most users of the EEmeter stack do not directly use the `eemeter`\n",
    "package for loading their data. Instead, they use the datastore application,\n",
    "which uses the eemeter internally. To learn to use the datastore, head\n",
    "over to the datastore basic usage tutorial.\n",
    "\n",
    "</div>"
   ]
  },
  {
   "cell_type": "markdown",
   "metadata": {},
   "source": [
    "## Running a meter"
   ]
  },
  {
   "cell_type": "raw",
   "metadata": {
    "raw_mimetype": "text/restructuredtext"
   },
   "source": [
    ".. If you are running tutorial as a jupyter notebook, the download is\n",
    "   available where you downloaded this notebook on eemeter.readthedocs.io\n",
    "\n",
    "Please download a preformatted input :download:`file <meter_input_example.json>`."
   ]
  },
  {
   "cell_type": "markdown",
   "metadata": {},
   "source": [
    "We can load this input file into memory with the following:"
   ]
  },
  {
   "cell_type": "code",
   "execution_count": 1,
   "metadata": {
    "collapsed": true
   },
   "outputs": [],
   "source": [
    "import json\n",
    "\n",
    "with open('meter_input_example.json', 'r') as f:  # modify to point to your downloaded input file.\n",
    "    meter_input = json.load(f)"
   ]
  },
  {
   "cell_type": "markdown",
   "metadata": {},
   "source": [
    "The file has a single trace of hourly electricity consumption data and some associated project data. Its contents looks like this:"
   ]
  },
  {
   "cell_type": "code",
   "execution_count": 2,
   "metadata": {
    "collapsed": false
   },
   "outputs": [
    {
     "name": "stdout",
     "output_type": "stream",
     "text": [
      "{\r\n",
      "  \"type\": \"SINGLE_TRACE_SIMPLE_PROJECT\",\r\n",
      "  \"trace\": {\r\n",
      "    \"type\": \"ARBITRARY_START\",\r\n",
      "    \"interpretation\": \"ELECTRICITY_CONSUMPTION_SUPPLIED\",\r\n",
      "    \"unit\": \"KWH\",\r\n",
      "    \"trace_id\": \"TRACE_ID_123\",\r\n",
      "    \"interval\": \"daily\",\r\n",
      "    \"records\": [\r\n",
      "      {\r\n",
      "        \"start\": \"2011-01-01T00:00:00+00:00\",\r\n",
      "        \"value\": 57.8,\r\n",
      "        \"estimated\": false\r\n",
      "      },\r\n",
      "      {\r\n"
     ]
    }
   ],
   "source": [
    "!head -15 meter_input_example.json"
   ]
  },
  {
   "cell_type": "code",
   "execution_count": 3,
   "metadata": {
    "collapsed": false
   },
   "outputs": [
    {
     "name": "stdout",
     "output_type": "stream",
     "text": [
      "        \"estimated\": false\r\n",
      "      },\r\n",
      "      {\r\n",
      "        \"start\": \"2015-01-01T00:00:00+00:00\",\r\n",
      "        \"value\": null,\r\n",
      "        \"estimated\": false\r\n",
      "      }\r\n",
      "    ]\r\n",
      "  },\r\n",
      "  \"project\": {\r\n",
      "    \"type\": \"PROJECT_WITH_SINGLE_MODELING_PERIOD_GROUP\",\r\n",
      "    \"zipcode\": \"50321\",\r\n",
      "    \"project_id\": \"PROJECT_ID_ABC\",\r\n",
      "    \"modeling_period_group\": {\r\n",
      "      \"baseline_period\": {\r\n",
      "        \"start\": null,\r\n",
      "        \"end\": \"2013-06-01T00:00:00+00:00\"\r\n",
      "      },\r\n",
      "      \"reporting_period\": {\r\n",
      "        \"start\": \"2013-07-01T00:00:00+00:00\",\r\n",
      "        \"end\": null\r\n",
      "      }\r\n",
      "    }\r\n",
      "  }\r\n",
      "}"
     ]
    }
   ],
   "source": [
    "!tail -25 meter_input_example.json"
   ]
  },
  {
   "cell_type": "markdown",
   "metadata": {},
   "source": [
    "Next, we can create a meter, model and formatter. These work in tandem to create a model of energy usage.\n",
    "\n",
    "The `meter` coordinates loading the input data, matching it with appropriate weather data, and\n",
    "passing it to the formatter and model. It then uses these to calculate a set of outputs, including\n",
    "energy savings estimates such as annualized weather normalized usage.\n",
    "\n",
    "The `formatter` formats the trace and project data for use within the model.\n",
    "\n",
    "The `model` fits a model of energy usage to this formatted data which can be used, given covariate weather data, to predict or model energy usage over an arbitrary period of time."
   ]
  },
  {
   "cell_type": "code",
   "execution_count": 4,
   "metadata": {
    "collapsed": false
   },
   "outputs": [],
   "source": [
    "from eemeter.ee.meter import EnergyEfficiencyMeter\n",
    "from eemeter.modeling.models import CaltrackMonthlyModel\n",
    "from eemeter.modeling.formatters import ModelDataFormatter\n",
    "\n",
    "meter = EnergyEfficiencyMeter()\n",
    "model = (CaltrackMonthlyModel, {\"fit_cdd\": False, \"grid_search\": True})\n",
    "formatter = (ModelDataFormatter, {\"freq_str\": \"D\"})"
   ]
  },
  {
   "cell_type": "markdown",
   "metadata": {},
   "source": [
    "The meter we created is an instance of the EEmeter class which operates on single energy traces.\n",
    "\n",
    "The model we created is a tuple of (model class, model keyword arguments), not an instantiation of the model. We do it this way to allow easy creation of multiple instances of the model class.\n",
    "\n",
    "The formatter is, like the model, a tuple of (formatter class, formatter keyword arguments), for the same reason - we want to make multiple instances of the formatter class.\n",
    "\n",
    "These can be used directly to \"evaluate\" the meter on the meter input. We'll store the output in `meter_output`."
   ]
  },
  {
   "cell_type": "code",
   "execution_count": 5,
   "metadata": {
    "collapsed": false,
    "scrolled": false
   },
   "outputs": [],
   "source": [
    "meter_output = meter.evaluate(meter_input, model=model, formatter=formatter)"
   ]
  },
  {
   "cell_type": "markdown",
   "metadata": {},
   "source": [
    "This `meter_ouput` is quite verbose, so we'll export it to a json file which is a bit more readable."
   ]
  },
  {
   "cell_type": "code",
   "execution_count": 6,
   "metadata": {
    "collapsed": false
   },
   "outputs": [],
   "source": [
    "with open('meter_output_example.json', 'w') as f:  # change this path if desired.\n",
    "    json.dump(meter_output, f, indent=2)"
   ]
  },
  {
   "cell_type": "markdown",
   "metadata": {},
   "source": [
    "The content of this file will look something like this:"
   ]
  },
  {
   "cell_type": "code",
   "execution_count": 7,
   "metadata": {
    "collapsed": false
   },
   "outputs": [
    {
     "name": "stdout",
     "output_type": "stream",
     "text": [
      "{\r\n",
      "  \"status\": \"SUCCESS\",\r\n",
      "  \"failure_message\": null,\r\n",
      "  \"logs\": [\r\n",
      "    \"Using weather_source ISDWeatherSource(\\\"725460\\\")\",\r\n",
      "    \"Using weather_normal_source TMY3WeatherSource(\\\"725460\\\")\"\r\n",
      "  ],\r\n",
      "  \"eemeter_version\": \"0.5.3\",\r\n",
      "  \"model_class\": \"CaltrackMonthlyModel\",\r\n",
      "  \"model_kwargs\": {\r\n",
      "    \"fit_cdd\": false,\r\n",
      "    \"grid_search\": true\r\n",
      "  },\r\n",
      "  \"formatter_class\": \"ModelDataFormatter\",\r\n",
      "  \"formatter_kwargs\": {\r\n",
      "    \"freq_str\": \"D\"\r\n",
      "  },\r\n",
      "  \"weather_source_station\": \"725460\",\r\n",
      "  \"weather_normal_source_station\": \"725460\",\r\n",
      "  \"derivatives\": [\r\n",
      "    {\r\n",
      "      \"modeling_period_group\": [\r\n",
      "        \"baseline\",\r\n",
      "        \"reporting\"\r\n",
      "      ],\r\n",
      "      \"series\": \"Cumulative baseline model minus reporting model, normal year\",\r\n",
      "      \"description\": \"Total predicted usage according to the baseline model over the normal weather year, minus the total predicted usage according to the reporting model over the normal weather year. Days for which normal year weather data does not exist are removed.\",\r\n",
      "      \"orderable\": [\r\n",
      "        null\r\n",
      "      ],\r\n",
      "      \"value\": [\r\n",
      "        2479.015638036155\r\n",
      "      ],\r\n",
      "      \"variance\": [\r\n",
      "        7354.084609086982\r\n",
      "      ]\r\n",
      "    },\r\n",
      "    {\r\n",
      "      \"modeling_period_group\": [\r\n",
      "        \"baseline\",\r\n"
     ]
    }
   ],
   "source": [
    "!head -40 meter_output_example.json"
   ]
  },
  {
   "cell_type": "markdown",
   "metadata": {},
   "source": [
    "Note how this file is organized: it contains a summary of the operations done during meter execution, including everything necessary to recreate the meter run, like the model class and keyword arguments used to initialize it, and the weather data (degrees F, called \"demand_fixture\") that was used in model building."
   ]
  },
  {
   "cell_type": "markdown",
   "metadata": {},
   "source": [
    "Not everyone has data ready to go, so if you are in that bucket, the next section covers how you can get started with data of your own."
   ]
  },
  {
   "cell_type": "markdown",
   "metadata": {},
   "source": [
    "Data preparation\n",
    "----------------\n",
    "\n",
    "All we'll be doing in this section is creating a data structure that has the same format as `meter_input_example.json` file above. We are using the eemeter EnergyTrace helper structure.\n",
    "\n",
    "Of course, this is not the only way to get data into the necessary format; use this for inspiration, but make changes as necessary to accomodate the particulars of your dataset."
   ]
  },
  {
   "cell_type": "code",
   "execution_count": 8,
   "metadata": {
    "collapsed": true
   },
   "outputs": [],
   "source": [
    "# library imports\n",
    "from eemeter.structures import EnergyTrace\n",
    "from eemeter.io.serializers import ArbitraryStartSerializer\n",
    "from eemeter.ee.meter import EnergyEfficiencyMeter\n",
    "import pandas as pd\n",
    "import pytz"
   ]
  },
  {
   "cell_type": "markdown",
   "metadata": {},
   "source": [
    "First, we import the energy data from the sample CSV and transform it into records"
   ]
  },
  {
   "cell_type": "code",
   "execution_count": 9,
   "metadata": {
    "collapsed": false
   },
   "outputs": [],
   "source": [
    "energy_data = pd.read_csv('sample-energy-data_project-ABC_zipcode-50321.csv',\n",
    "                          parse_dates=['date'], dtype={'zipcode': str})\n",
    "records = [{\n",
    "    \"start\": pytz.UTC.localize(row.date.to_datetime()),\n",
    "    \"value\": row.value,\n",
    "    \"estimated\": row.estimated,\n",
    "} for _, row in energy_data.iterrows()]"
   ]
  },
  {
   "cell_type": "markdown",
   "metadata": {},
   "source": [
    "The records we created look like this:"
   ]
  },
  {
   "cell_type": "code",
   "execution_count": 10,
   "metadata": {
    "collapsed": false
   },
   "outputs": [
    {
     "data": {
      "text/plain": [
       "[{'estimated': False,\n",
       "  'start': datetime.datetime(2011, 1, 1, 0, 0, tzinfo=<UTC>),\n",
       "  'value': 57.8},\n",
       " {'estimated': False,\n",
       "  'start': datetime.datetime(2011, 1, 2, 0, 0, tzinfo=<UTC>),\n",
       "  'value': 64.8},\n",
       " {'estimated': False,\n",
       "  'start': datetime.datetime(2011, 1, 3, 0, 0, tzinfo=<UTC>),\n",
       "  'value': 49.5}]"
      ]
     },
     "execution_count": 10,
     "metadata": {},
     "output_type": "execute_result"
    }
   ],
   "source": [
    "records[:3]  # the first three records"
   ]
  },
  {
   "cell_type": "markdown",
   "metadata": {},
   "source": [
    "Next, we load our records into an `EnergyTrace`. We give it units `\"KWH\"` and interpretation `\"ELECTRICITY_CONSUMPTION_SUPPLIED\"`, which means that this is electricity consumed by the building and supplied by a utility (rather than by solar panels or other on-site generation). We also pass in an instance of the record serializer `ArbitraryStartSerializer` to show it how to interpret the records."
   ]
  },
  {
   "cell_type": "code",
   "execution_count": 11,
   "metadata": {
    "collapsed": false
   },
   "outputs": [],
   "source": [
    "energy_trace = EnergyTrace(\n",
    "    records=records,\n",
    "    unit=\"KWH\",\n",
    "    interpretation=\"ELECTRICITY_CONSUMPTION_SUPPLIED\",\n",
    "    serializer=ArbitraryStartSerializer(),\n",
    "    trace_id='TRACE_ID_123',\n",
    "    interval='daily'\n",
    ")"
   ]
  },
  {
   "cell_type": "markdown",
   "metadata": {},
   "source": [
    "The energy trace data we created looks like this:"
   ]
  },
  {
   "cell_type": "code",
   "execution_count": 12,
   "metadata": {
    "collapsed": false
   },
   "outputs": [
    {
     "data": {
      "text/html": [
       "<div>\n",
       "<table border=\"1\" class=\"dataframe\">\n",
       "  <thead>\n",
       "    <tr style=\"text-align: right;\">\n",
       "      <th></th>\n",
       "      <th>value</th>\n",
       "      <th>estimated</th>\n",
       "    </tr>\n",
       "  </thead>\n",
       "  <tbody>\n",
       "    <tr>\n",
       "      <th>2011-01-01 00:00:00+00:00</th>\n",
       "      <td>57.8</td>\n",
       "      <td>False</td>\n",
       "    </tr>\n",
       "    <tr>\n",
       "      <th>2011-01-02 00:00:00+00:00</th>\n",
       "      <td>64.8</td>\n",
       "      <td>False</td>\n",
       "    </tr>\n",
       "    <tr>\n",
       "      <th>2011-01-03 00:00:00+00:00</th>\n",
       "      <td>49.5</td>\n",
       "      <td>False</td>\n",
       "    </tr>\n",
       "  </tbody>\n",
       "</table>\n",
       "</div>"
      ],
      "text/plain": [
       "                           value estimated\n",
       "2011-01-01 00:00:00+00:00   57.8     False\n",
       "2011-01-02 00:00:00+00:00   64.8     False\n",
       "2011-01-03 00:00:00+00:00   49.5     False"
      ]
     },
     "execution_count": 12,
     "metadata": {},
     "output_type": "execute_result"
    }
   ],
   "source": [
    "energy_trace.data[:3]  # first three records"
   ]
  },
  {
   "cell_type": "markdown",
   "metadata": {},
   "source": [
    "Now we load the rest of the project data from the sample project data CSV. This CSV includes the project_id (we don't use it in this tutorial, but this is how you might identify the saved meter results), the ZIP code of the building, and the dates retrofit work for this project started and completed."
   ]
  },
  {
   "cell_type": "code",
   "execution_count": 13,
   "metadata": {
    "collapsed": false
   },
   "outputs": [],
   "source": [
    "project_data = pd.read_csv('sample-project-data.csv',\n",
    "                           parse_dates=['retrofit_start_date', 'retrofit_end_date']).iloc[0]"
   ]
  },
  {
   "cell_type": "markdown",
   "metadata": {},
   "source": [
    "Here's what our project data looks like."
   ]
  },
  {
   "cell_type": "code",
   "execution_count": 14,
   "metadata": {
    "collapsed": false
   },
   "outputs": [
    {
     "data": {
      "text/plain": [
       "project_id                             ABC\n",
       "zipcode                              50321\n",
       "retrofit_start_date    2013-06-01 00:00:00\n",
       "retrofit_end_date      2013-07-01 00:00:00\n",
       "Name: 0, dtype: object"
      ]
     },
     "execution_count": 14,
     "metadata": {},
     "output_type": "execute_result"
    }
   ],
   "source": [
    "project_data"
   ]
  },
  {
   "cell_type": "code",
   "execution_count": 15,
   "metadata": {
    "collapsed": false
   },
   "outputs": [],
   "source": [
    "zipcode = \"{:05d}\".format(project_data.zipcode)\n",
    "retrofit_start_date = pytz.UTC.localize(project_data.retrofit_start_date)\n",
    "retrofit_end_date = pytz.UTC.localize(project_data.retrofit_end_date)"
   ]
  },
  {
   "cell_type": "markdown",
   "metadata": {},
   "source": [
    "Here's an example of how to get this data into the format the meter expects (exactly the format of the meter_input_example.json from above)."
   ]
  },
  {
   "cell_type": "code",
   "execution_count": 16,
   "metadata": {
    "collapsed": true
   },
   "outputs": [],
   "source": [
    "from collections import OrderedDict\n",
    "\n",
    "def serialize_meter_input(trace, zipcode, retrofit_start_date, retrofit_end_date):\n",
    "\n",
    "    data = OrderedDict([\n",
    "        (\"type\", \"SINGLE_TRACE_SIMPLE_PROJECT\"),\n",
    "        (\"trace\", trace_serializer(trace)),\n",
    "        (\"project\", project_serializer(zipcode, retrofit_start_date, retrofit_end_date)),\n",
    "    ])\n",
    "\n",
    "    return data\n",
    "\n",
    "\n",
    "def trace_serializer(trace):\n",
    "    data = OrderedDict([\n",
    "        (\"type\", \"ARBITRARY_START\"),\n",
    "        (\"interpretation\", trace.interpretation),\n",
    "        (\"unit\", trace.unit),\n",
    "        (\"trace_id\", trace.trace_id),\n",
    "        (\"interval\", trace.interval),\n",
    "        (\"records\", [\n",
    "            OrderedDict([\n",
    "                (\"start\", start.isoformat()),\n",
    "                (\"value\", record.value if pd.notnull(record.value) else None),\n",
    "                (\"estimated\", bool(record.estimated)),\n",
    "            ])\n",
    "            for start, record in trace.data.iterrows()\n",
    "        ]),\n",
    "    ])\n",
    "    return data\n",
    "\n",
    "\n",
    "def project_serializer(zipcode, retrofit_start_date, retrofit_end_date):\n",
    "    data = OrderedDict([\n",
    "        (\"type\", \"PROJECT_WITH_SINGLE_MODELING_PERIOD_GROUP\"),\n",
    "        (\"zipcode\", zipcode),\n",
    "        (\"project_id\", 'PROJECT_ID_ABC'),\n",
    "        (\"modeling_period_group\", OrderedDict([\n",
    "            (\"baseline_period\", OrderedDict([\n",
    "                (\"start\", None),\n",
    "                (\"end\", retrofit_start_date.isoformat()),\n",
    "            ])),\n",
    "            (\"reporting_period\", OrderedDict([\n",
    "                (\"start\", retrofit_end_date.isoformat()),\n",
    "                (\"end\", None),\n",
    "            ]))\n",
    "        ]))\n",
    "    ])\n",
    "    return data"
   ]
  },
  {
   "cell_type": "code",
   "execution_count": 17,
   "metadata": {
    "collapsed": false
   },
   "outputs": [],
   "source": [
    "my_meter_input = serialize_meter_input(\n",
    "    energy_trace, zipcode, retrofit_start_date, retrofit_end_date)"
   ]
  },
  {
   "cell_type": "code",
   "execution_count": 18,
   "metadata": {
    "collapsed": false
   },
   "outputs": [],
   "source": [
    "with open('my_meter_input.json', 'w') as f:\n",
    "    json.dump(my_meter_input, f, indent=2)"
   ]
  },
  {
   "cell_type": "code",
   "execution_count": 19,
   "metadata": {
    "collapsed": false
   },
   "outputs": [
    {
     "name": "stdout",
     "output_type": "stream",
     "text": [
      "{\r\n",
      "  \"type\": \"SINGLE_TRACE_SIMPLE_PROJECT\",\r\n",
      "  \"trace\": {\r\n",
      "    \"type\": \"ARBITRARY_START\",\r\n",
      "    \"interpretation\": \"ELECTRICITY_CONSUMPTION_SUPPLIED\",\r\n",
      "    \"unit\": \"KWH\",\r\n",
      "    \"trace_id\": \"TRACE_ID_123\",\r\n",
      "    \"interval\": \"daily\",\r\n",
      "    \"records\": [\r\n",
      "      {\r\n",
      "        \"start\": \"2011-01-01T00:00:00+00:00\",\r\n",
      "        \"value\": 57.8,\r\n",
      "        \"estimated\": false\r\n",
      "      },\r\n",
      "      {\r\n"
     ]
    }
   ],
   "source": [
    "!head -15 my_meter_input.json"
   ]
  },
  {
   "cell_type": "code",
   "execution_count": 20,
   "metadata": {
    "collapsed": false
   },
   "outputs": [
    {
     "name": "stdout",
     "output_type": "stream",
     "text": [
      "        \"estimated\": false\r\n",
      "      },\r\n",
      "      {\r\n",
      "        \"start\": \"2015-01-01T00:00:00+00:00\",\r\n",
      "        \"value\": null,\r\n",
      "        \"estimated\": false\r\n",
      "      }\r\n",
      "    ]\r\n",
      "  },\r\n",
      "  \"project\": {\r\n",
      "    \"type\": \"PROJECT_WITH_SINGLE_MODELING_PERIOD_GROUP\",\r\n",
      "    \"zipcode\": \"50321\",\r\n",
      "    \"project_id\": \"PROJECT_ID_ABC\",\r\n",
      "    \"modeling_period_group\": {\r\n",
      "      \"baseline_period\": {\r\n",
      "        \"start\": null,\r\n",
      "        \"end\": \"2013-06-01T00:00:00+00:00\"\r\n",
      "      },\r\n",
      "      \"reporting_period\": {\r\n",
      "        \"start\": \"2013-07-01T00:00:00+00:00\",\r\n",
      "        \"end\": null\r\n",
      "      }\r\n",
      "    }\r\n",
      "  }\r\n",
      "}"
     ]
    }
   ],
   "source": [
    "!tail -25 my_meter_input.json"
   ]
  },
  {
   "cell_type": "markdown",
   "metadata": {},
   "source": [
    "Now we can run this through the meter exactly the same way we did before:"
   ]
  },
  {
   "cell_type": "code",
   "execution_count": 21,
   "metadata": {
    "collapsed": false,
    "scrolled": false
   },
   "outputs": [],
   "source": [
    "my_meter_output = meter.evaluate(my_meter_input, model=model, formatter=formatter)"
   ]
  },
  {
   "cell_type": "markdown",
   "metadata": {},
   "source": [
    "## Inspecting results\n",
    "\n",
    "Now that we have some results at our fingertips, let's inspect them. We'll be using the meter output from the first example trace.\n",
    "\n",
    "The output is mostly made up of a set of \"derivatives\". These aren't derivatives in the calculus sense - they're just derived from the model output.\n",
    "\n",
    "Let's take a look at the first one."
   ]
  },
  {
   "cell_type": "code",
   "execution_count": 22,
   "metadata": {
    "collapsed": false
   },
   "outputs": [],
   "source": [
    "derivative = meter_output[\"derivatives\"][0]"
   ]
  },
  {
   "cell_type": "markdown",
   "metadata": {},
   "source": [
    "We can take a peek at the contents by looking at the keys of the dict."
   ]
  },
  {
   "cell_type": "code",
   "execution_count": 23,
   "metadata": {
    "collapsed": false
   },
   "outputs": [
    {
     "data": {
      "text/plain": [
       "['modeling_period_group',\n",
       " 'series',\n",
       " 'description',\n",
       " 'orderable',\n",
       " 'value',\n",
       " 'variance']"
      ]
     },
     "execution_count": 23,
     "metadata": {},
     "output_type": "execute_result"
    }
   ],
   "source": [
    "[k for k in derivative.keys()]"
   ]
  },
  {
   "cell_type": "markdown",
   "metadata": {},
   "source": [
    "Each derivative is a series with a name and a description"
   ]
  },
  {
   "cell_type": "code",
   "execution_count": 24,
   "metadata": {
    "collapsed": false
   },
   "outputs": [
    {
     "data": {
      "text/plain": [
       "('Cumulative baseline model minus reporting model, normal year',\n",
       " 'Total predicted usage according to the baseline model over the normal weather year, minus the total predicted usage according to the reporting model over the normal weather year. Days for which normal year weather data does not exist are removed.')"
      ]
     },
     "execution_count": 24,
     "metadata": {},
     "output_type": "execute_result"
    }
   ],
   "source": [
    "derivative['series'], derivative['description']"
   ]
  },
  {
   "cell_type": "markdown",
   "metadata": {},
   "source": [
    "The values associated with the derivative are stored in value, their variances are stored in variance, and the orderables act as keys. A single orderable of None indicates (as in this case) that the value and variance are singleton values."
   ]
  },
  {
   "cell_type": "code",
   "execution_count": 25,
   "metadata": {
    "collapsed": false
   },
   "outputs": [
    {
     "data": {
      "text/plain": [
       "([None], [2479.015638036155], [7354.0846090869818])"
      ]
     },
     "execution_count": 25,
     "metadata": {},
     "output_type": "execute_result"
    }
   ],
   "source": [
    "derivative['orderable'], derivative['value'], derivative['variance']"
   ]
  },
  {
   "cell_type": "markdown",
   "metadata": {},
   "source": [
    "Other derivatives are computed as well:"
   ]
  },
  {
   "cell_type": "code",
   "execution_count": 26,
   "metadata": {
    "collapsed": false
   },
   "outputs": [
    {
     "name": "stdout",
     "output_type": "stream",
     "text": [
      "[\n",
      "  [\n",
      "    \"Baseline model minus observed, reporting period\",\n",
      "    \"Predicted usage according to the baseline model minus observed usage over the reporting period.\"\n",
      "  ],\n",
      "  [\n",
      "    \"Baseline model minus reporting model, normal year\",\n",
      "    \"Predicted usage according to the baseline model over the normal weather year, minus the predicted usage according to the reporting model over the normal weather year.\"\n",
      "  ],\n",
      "  [\n",
      "    \"Baseline model, baseline period\",\n",
      "    \"Predicted usage according to the baseline model over the baseline period.\"\n",
      "  ],\n",
      "  [\n",
      "    \"Baseline model, normal year\",\n",
      "    \"Predicted usage according to the baseline model over the normal weather year.\"\n",
      "  ],\n",
      "  [\n",
      "    \"Baseline model, reporting period\",\n",
      "    \"Predicted usage according to the baseline model over the reporting period.\"\n",
      "  ],\n",
      "  [\n",
      "    \"Cumulative baseline model minus observed, reporting period\",\n",
      "    \"Total predicted usage according to the baseline model minus observed usage over the reporting period. Days for which reporting period weather data or usage do not exist are removed.\"\n",
      "  ],\n",
      "  [\n",
      "    \"Cumulative baseline model minus reporting model, normal year\",\n",
      "    \"Total predicted usage according to the baseline model over the normal weather year, minus the total predicted usage according to the reporting model over the normal weather year. Days for which normal year weather data does not exist are removed.\"\n",
      "  ],\n",
      "  [\n",
      "    \"Cumulative baseline model, normal year\",\n",
      "    \"Total predicted usage according to the baseline model over the normal weather year. Days for which normal year weather data does not exist are removed.\"\n",
      "  ],\n",
      "  [\n",
      "    \"Cumulative baseline model, reporting period\",\n",
      "    \"Total predicted usage according to the baseline model over the reporting period. Days for which reporting period weather data does not exist are removed.\"\n",
      "  ],\n",
      "  [\n",
      "    \"Cumulative observed, baseline period\",\n",
      "    \"Total observed usage over the baseline period. Days for which weather data does not exist are NOT removed.\"\n",
      "  ],\n",
      "  [\n",
      "    \"Cumulative observed, reporting period\",\n",
      "    \"Total observed usage over the reporting period. Days for which weather data does not exist are NOT removed.\"\n",
      "  ],\n",
      "  [\n",
      "    \"Cumulative reporting model, normal year\",\n",
      "    \"Total predicted usage according to the reporting model over the reporting period. Days for which normal year weather data does not exist are removed.\"\n",
      "  ],\n",
      "  [\n",
      "    \"Inclusion mask, baseline period\",\n",
      "    \"Mask for baseline period data which is included in model and savings cumulatives.\"\n",
      "  ],\n",
      "  [\n",
      "    \"Inclusion mask, reporting period\",\n",
      "    \"Mask for reporting period data which is included in model and savings cumulatives.\"\n",
      "  ],\n",
      "  [\n",
      "    \"Observed, baseline period\",\n",
      "    \"Observed usage over the baseline period.\"\n",
      "  ],\n",
      "  [\n",
      "    \"Observed, project period\",\n",
      "    \"Observed usage over the project period.\"\n",
      "  ],\n",
      "  [\n",
      "    \"Observed, reporting period\",\n",
      "    \"Observed usage over the reporting period.\"\n",
      "  ],\n",
      "  [\n",
      "    \"Reporting model, normal year\",\n",
      "    \"Predicted usage according to the reporting model over the reporting period.\"\n",
      "  ],\n",
      "  [\n",
      "    \"Reporting model, reporting period\",\n",
      "    \"Predicted usage according to the reporting model over the reporting period.\"\n",
      "  ],\n",
      "  [\n",
      "    \"Temperature, baseline period\",\n",
      "    \"Observed temperature (degF) over the baseline period.\"\n",
      "  ],\n",
      "  [\n",
      "    \"Temperature, normal year\",\n",
      "    \"Observed temperature (degF) over the normal year.\"\n",
      "  ],\n",
      "  [\n",
      "    \"Temperature, reporting period\",\n",
      "    \"Observed temperature (degF) over the reporting period.\"\n",
      "  ]\n",
      "]\n"
     ]
    }
   ],
   "source": [
    "print(json.dumps([(d['series'], d['description']) for d in sorted(meter_output[\"derivatives\"], key=lambda o: o['series'])], indent=2))"
   ]
  }
 ],
 "metadata": {
  "celltoolbar": "Raw Cell Format",
  "kernelspec": {
   "display_name": "Python 3",
   "language": "python",
   "name": "python3"
  },
  "language_info": {
   "codemirror_mode": {
    "name": "ipython",
    "version": 3
   },
   "file_extension": ".py",
   "mimetype": "text/x-python",
   "name": "python",
   "nbconvert_exporter": "python",
   "pygments_lexer": "ipython3",
   "version": "3.5.2"
  }
 },
 "nbformat": 4,
 "nbformat_minor": 0
}
